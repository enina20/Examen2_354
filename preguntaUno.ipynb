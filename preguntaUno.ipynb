{
  "nbformat": 4,
  "nbformat_minor": 0,
  "metadata": {
    "colab": {
      "provenance": []
    },
    "kernelspec": {
      "name": "python3",
      "display_name": "Python 3"
    },
    "language_info": {
      "name": "python"
    }
  },
  "cells": [
    {
      "cell_type": "code",
      "source": [
        "import numpy as np\n",
        "# Cargar el conjunto de datos Iris\n",
        "from sklearn.datasets import load_iris\n",
        "iris = load_iris()\n",
        "X = iris.data\n",
        "y = iris.target\n"
      ],
      "metadata": {
        "id": "_kVXbO3gwFeB"
      },
      "execution_count": 1,
      "outputs": []
    },
    {
      "cell_type": "code",
      "source": [
        "def sigmoid(x):\n",
        "    return 1 / (1 + np.exp(-x))\n",
        "\n",
        "def sigmoid_derivative(x):\n",
        "    return sigmoid(x) * (1 - sigmoid(x))\n"
      ],
      "metadata": {
        "id": "6KEhQO_xwK0Y"
      },
      "execution_count": 2,
      "outputs": []
    },
    {
      "cell_type": "code",
      "source": [
        "class NeuralNetwork:\n",
        "    def __init__(self, input_size, hidden_size, output_size):\n",
        "        self.input_size = input_size\n",
        "        self.hidden_size = hidden_size\n",
        "        self.output_size = output_size\n",
        "        \n",
        "        # Inicializar los pesos aleatoriamente\n",
        "        self.W1 = np.random.randn(self.input_size, self.hidden_size)\n",
        "        self.W2 = np.random.randn(self.hidden_size, self.output_size)\n",
        "        \n",
        "    def forward(self, X):\n",
        "        # Calcular la salida de la capa oculta\n",
        "        self.z = np.dot(X, self.W1)\n",
        "        self.hidden_output = sigmoid(self.z)\n",
        "        \n",
        "        # Calcular la salida final\n",
        "        self.output = sigmoid(np.dot(self.hidden_output, self.W2))\n",
        "        \n",
        "        return self.output\n",
        "    \n",
        "    def backward(self, X, y, output, learning_rate):\n",
        "        # Calcular los errores y ajustar los pesos de la capa de salida\n",
        "        self.output_error = y - output\n",
        "        self.output_delta = self.output_error * sigmoid_derivative(output)\n",
        "        self.W2 += learning_rate * np.dot(self.hidden_output.T, self.output_delta)\n",
        "        \n",
        "        # Calcular los errores y ajustar los pesos de la capa oculta\n",
        "        self.hidden_error = np.dot(self.output_delta, self.W2.T)\n",
        "        self.hidden_delta = self.hidden_error * sigmoid_derivative(self.hidden_output)\n",
        "        self.W1 += learning_rate * np.dot(X.T, self.hidden_delta)\n"
      ],
      "metadata": {
        "id": "-DqJo_xRwMJ0"
      },
      "execution_count": 3,
      "outputs": []
    },
    {
      "cell_type": "code",
      "source": [
        "# Convertir las etiquetas en codificación one-hot\n",
        "num_classes = len(np.unique(y))\n",
        "y_one_hot = np.zeros((len(y), num_classes))\n",
        "y_one_hot[np.arange(len(y)), y] = 1\n",
        "\n",
        "# Definir los hiperparámetros\n",
        "input_size = X.shape[1]\n",
        "hidden_size = 5\n",
        "output_size = num_classes\n",
        "learning_rate = 0.1\n",
        "num_epochs = 1000\n",
        "\n",
        "# Crear la instancia de la red neuronal\n",
        "nn = NeuralNetwork(input_size, hidden_size, output_size)\n",
        "\n",
        "# Entrenar la red neuronal\n",
        "for epoch in range(num_epochs):\n",
        "    # Paso de forward\n",
        "    output = nn.forward(X)\n",
        "    \n",
        "    # Paso de backward\n",
        "    nn.backward(X, y_one_hot, output, learning_rate)\n",
        "    \n",
        "    # Calcular la pérdida\n",
        "    loss = np.mean(np.square(y_one_hot - output))\n",
        "    \n",
        "    if (epoch+1) % 100 == 0:\n",
        "        print(f\"Epoch {epoch+1}/{num_epochs}, Loss: {loss}\")\n"
      ],
      "metadata": {
        "colab": {
          "base_uri": "https://localhost:8080/"
        },
        "id": "FZx5VGBywNlA",
        "outputId": "6ac883e9-370f-4bd5-861f-cbc4933bab93"
      },
      "execution_count": 4,
      "outputs": [
        {
          "output_type": "stream",
          "name": "stderr",
          "text": [
            "<ipython-input-2-6bb1af10151c>:2: RuntimeWarning: overflow encountered in exp\n",
            "  return 1 / (1 + np.exp(-x))\n"
          ]
        },
        {
          "output_type": "stream",
          "name": "stdout",
          "text": [
            "Epoch 100/1000, Loss: 0.34408616829503147\n",
            "Epoch 200/1000, Loss: 0.3440257743480465\n",
            "Epoch 300/1000, Loss: 0.3440257740180113\n",
            "Epoch 400/1000, Loss: 0.34402577401800716\n",
            "Epoch 500/1000, Loss: 0.3440257740180081\n",
            "Epoch 600/1000, Loss: 0.3440257740180096\n",
            "Epoch 700/1000, Loss: 0.34402577401800716\n",
            "Epoch 800/1000, Loss: 0.3440257740180081\n",
            "Epoch 900/1000, Loss: 0.3440257740180096\n",
            "Epoch 1000/1000, Loss: 0.34402577401800716\n"
          ]
        }
      ]
    }
  ]
}