{
  "nbformat": 4,
  "nbformat_minor": 0,
  "metadata": {
    "colab": {
      "provenance": []
    },
    "kernelspec": {
      "name": "python3",
      "display_name": "Python 3"
    },
    "language_info": {
      "name": "python"
    }
  },
  "cells": [
    {
      "cell_type": "code",
      "execution_count": 1,
      "metadata": {
        "colab": {
          "base_uri": "https://localhost:8080/"
        },
        "id": "qnmrBjpty_DV",
        "outputId": "4ab9c61f-8397-4f92-c8f3-a9ca2e0ba5ce"
      },
      "outputs": [
        {
          "output_type": "stream",
          "name": "stdout",
          "text": [
            "Looking in indexes: https://pypi.org/simple, https://us-python.pkg.dev/colab-wheels/public/simple/\n",
            "Collecting deap\n",
            "  Downloading deap-1.3.3-cp310-cp310-manylinux_2_5_x86_64.manylinux1_x86_64.manylinux_2_17_x86_64.manylinux2014_x86_64.whl (139 kB)\n",
            "\u001b[2K     \u001b[90m━━━━━━━━━━━━━━━━━━━━━━━━━━━━━━━━━━━━━━━\u001b[0m \u001b[32m139.9/139.9 kB\u001b[0m \u001b[31m5.2 MB/s\u001b[0m eta \u001b[36m0:00:00\u001b[0m\n",
            "\u001b[?25hRequirement already satisfied: numpy in /usr/local/lib/python3.10/dist-packages (from deap) (1.22.4)\n",
            "Installing collected packages: deap\n",
            "Successfully installed deap-1.3.3\n"
          ]
        }
      ],
      "source": [
        "pip install deap"
      ]
    },
    {
      "cell_type": "code",
      "source": [
        "import random\n",
        "import numpy as np\n",
        "from deap import creator, base, tools, algorithms\n",
        "\n",
        "toolbox = base.Toolbox()\n",
        "n = 5"
      ],
      "metadata": {
        "id": "d1dAQxzEzEOr"
      },
      "execution_count": 2,
      "outputs": []
    },
    {
      "cell_type": "code",
      "source": [
        "creator.create(\"FitnessMin\", base.Fitness, weights=(-1.0,))\n",
        "creator.create(\"EstrIndividuo\", list, fitness=creator.FitnessMin)\n",
        "toolbox.register(\"Genes\", np.random.permutation, n)\n",
        "toolbox.register(\"Individuos\", tools.initIterate, creator.EstrIndividuo, toolbox.Genes)\n",
        "toolbox.register(\"Populacao\", tools.initRepeat, list, toolbox.Individuos)\n",
        "pop = toolbox.Populacao(n=10)\n",
        "toolbox.register(\"mate\", tools.cxPartialyMatched)\n",
        "toolbox.register(\"mutate\", tools.mutShuffleIndexes, indpb=0.1)\n",
        "toolbox.register(\"select\", tools.selTournament, tournsize=2)\n",
        "dist = [\n",
        "    [0, 7, 9, 8, 20],\n",
        "    [7, 0, 10, 4, 11],\n",
        "    [9, 10, 0, 15, 5],\n",
        "    [8, 4, 15, 0, 17],\n",
        "    [20, 11, 5, 17, 0]\n",
        "]"
      ],
      "metadata": {
        "id": "JYNVrSwnzJQH"
      },
      "execution_count": 3,
      "outputs": []
    },
    {
      "cell_type": "code",
      "source": [
        "def apt(individuo):\n",
        "    f = 0\n",
        "    for i in range(n-1):\n",
        "        local1 = individuo[i]\n",
        "        local2 = individuo[i+1]\n",
        "        distancia = dist[local1][local2]\n",
        "        f += distancia\n",
        "    return f,\n",
        "\n",
        "toolbox.register(\"evaluate\", apt)\n",
        "\n",
        "def estadisticaGuardada(individuo):\n",
        "    return individuo.fitness.values"
      ],
      "metadata": {
        "id": "f1pqfBdgzMps"
      },
      "execution_count": 4,
      "outputs": []
    },
    {
      "cell_type": "code",
      "source": [
        "estadistica = tools.Statistics(key=estadisticaGuardada)\n",
        "estadistica.register('mean', np.mean)\n",
        "estadistica.register('min', np.min)\n",
        "estadistica.register('max', np.max)\n",
        "\n",
        "hof = tools.HallOfFame(1)\n",
        "\n",
        "resultado, log = algorithms.eaSimple(\n",
        "    pop,\n",
        "    toolbox,\n",
        "    cxpb=0.8,\n",
        "    mutpb=0.1,\n",
        "    stats=estadistica,\n",
        "    ngen=30,\n",
        "    halloffame=hof,\n",
        "    verbose=True\n",
        ")\n",
        "print(\"------------Resultados---------------\")\n",
        "print(resultado)\n",
        "print(\"------------Mejor Camino---------------\")\n",
        "print(hof)\n",
        "\n",
        "mejor_camino = hof[0]\n",
        "print(\"------------Distancia Minima---------------\")\n",
        "print(apt(mejor_camino))"
      ],
      "metadata": {
        "colab": {
          "base_uri": "https://localhost:8080/"
        },
        "id": "XiRqKA7XzRAd",
        "outputId": "8f7c0029-5923-4eba-f079-ffb7bf515ec4"
      },
      "execution_count": 5,
      "outputs": [
        {
          "output_type": "stream",
          "name": "stdout",
          "text": [
            "gen\tnevals\tmean\tmin\tmax\n",
            "0  \t10    \t42.3\t30 \t59 \n",
            "1  \t8     \t38.8\t25 \t52 \n",
            "2  \t10    \t40.5\t30 \t56 \n",
            "3  \t8     \t35.9\t30 \t52 \n",
            "4  \t8     \t40.9\t30 \t52 \n",
            "5  \t9     \t39.4\t31 \t52 \n",
            "6  \t8     \t41.6\t32 \t56 \n",
            "7  \t8     \t38.3\t30 \t53 \n",
            "8  \t8     \t39.5\t30 \t48 \n",
            "9  \t10    \t41.1\t30 \t59 \n",
            "10 \t6     \t38.3\t30 \t52 \n",
            "11 \t6     \t35.5\t30 \t52 \n",
            "12 \t10    \t33.8\t30 \t53 \n",
            "13 \t9     \t33  \t30 \t52 \n",
            "14 \t6     \t31.7\t30 \t47 \n",
            "15 \t8     \t30  \t30 \t30 \n",
            "16 \t6     \t30  \t30 \t30 \n",
            "17 \t8     \t30  \t30 \t30 \n",
            "18 \t10    \t30  \t30 \t30 \n",
            "19 \t10    \t30  \t30 \t30 \n",
            "20 \t10    \t30  \t30 \t30 \n",
            "21 \t10    \t30  \t30 \t30 \n",
            "22 \t8     \t30  \t30 \t30 \n",
            "23 \t6     \t30  \t30 \t30 \n",
            "24 \t10    \t30.7\t30 \t37 \n",
            "25 \t6     \t29.7\t27 \t30 \n",
            "26 \t8     \t29.4\t27 \t30 \n",
            "27 \t6     \t29.1\t27 \t30 \n",
            "28 \t8     \t29.5\t27 \t37 \n",
            "29 \t8     \t27.9\t27 \t30 \n",
            "30 \t6     \t27.6\t27 \t30 \n",
            "------------Resultados---------------\n",
            "[[3, 0, 1, 2, 4], [0, 3, 1, 2, 4], [0, 3, 1, 2, 4], [0, 3, 1, 2, 4], [0, 3, 1, 2, 4], [0, 3, 1, 2, 4], [0, 3, 1, 2, 4], [0, 3, 1, 2, 4], [0, 3, 1, 2, 4], [3, 0, 1, 2, 4]]\n",
            "------------Mejor Camino---------------\n",
            "[[4, 2, 0, 1, 3]]\n",
            "------------Distancia Minima---------------\n",
            "(25,)\n"
          ]
        }
      ]
    },
    {
      "cell_type": "code",
      "source": [],
      "metadata": {
        "id": "42VPP9l8zTgy"
      },
      "execution_count": null,
      "outputs": []
    }
  ]
}