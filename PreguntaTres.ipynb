{
  "nbformat": 4,
  "nbformat_minor": 0,
  "metadata": {
    "colab": {
      "provenance": []
    },
    "kernelspec": {
      "name": "python3",
      "display_name": "Python 3"
    },
    "language_info": {
      "name": "python"
    }
  },
  "cells": [
    {
      "cell_type": "code",
      "execution_count": 1,
      "metadata": {
        "id": "CaxgWBqSxZxB"
      },
      "outputs": [],
      "source": [
        "import numpy as np\n",
        "import random"
      ]
    },
    {
      "cell_type": "code",
      "source": [
        "n_nodos = 5\n",
        "n_poblacion = 10\n",
        "mutacion = 0.3\n",
        "\n",
        "pesos = np.array([\n",
        "    [0, 7, 9, 8, 20],\n",
        "    [7, 0, 10, 4, 11],\n",
        "    [9, 10, 0, 15, 5],\n",
        "    [8, 4, 15, 0, 17],\n",
        "    [20, 11, 5, 17, 0]\n",
        "])\n",
        "names_nodos = np.array(['A', 'B', 'C', 'D', 'E'])\n",
        "nodos_dic = {x: y for x, y in zip(names_nodos, pesos)}"
      ],
      "metadata": {
        "id": "x6wWQwXKxeWd"
      },
      "execution_count": 2,
      "outputs": []
    },
    {
      "cell_type": "code",
      "source": [
        "def distancia_nodos(a, b):\n",
        "    return np.sqrt(np.sum((a - b) ** 2))\n",
        "\n",
        "def distancia_nodos2(nodo_a, nodo_b, nod_dict):\n",
        "    return distancia_nodos(nod_dict[nodo_a], nod_dict[nodo_b])\n",
        "\n",
        "def genesis(n_list, n_poblacion):\n",
        "    return np.array([np.random.permutation(n_list) for _ in range(n_poblacion)])\n",
        "\n",
        "poblacion_set = genesis(names_nodos, n_poblacion)"
      ],
      "metadata": {
        "id": "NbFEjOlIxjM0"
      },
      "execution_count": 3,
      "outputs": []
    },
    {
      "cell_type": "code",
      "source": [
        "def fit_(n_list, nodos_dic):\n",
        "    total = 0\n",
        "    for i in range(n_nodos - 1):\n",
        "        a = n_list[i]\n",
        "        b = n_list[i + 1]\n",
        "        total += distancia_nodos2(a, b, nodos_dic)\n",
        "    return total\n",
        "\n",
        "def fit_2(poblacion_set, nodos_dic):\n",
        "    return np.array([fit_(n_list, nodos_dic) for n_list in poblacion_set])\n",
        "\n",
        "fitnes_list = fit_2(poblacion_set, nodos_dic)"
      ],
      "metadata": {
        "id": "xE2zedokxoTN"
      },
      "execution_count": 4,
      "outputs": []
    },
    {
      "cell_type": "code",
      "source": [
        "def progenitor(poblacion_set, fitnes_list):\n",
        "    total_fit = np.sum(fitnes_list)\n",
        "    prob_list = fitnes_list / total_fit\n",
        "    progenitor_list_a = np.random.choice(len(poblacion_set), len(poblacion_set), p=prob_list, replace=True)\n",
        "    progenitor_list_b = np.random.choice(len(poblacion_set), len(poblacion_set), p=prob_list, replace=True)\n",
        "    progenitor_list_a = poblacion_set[progenitor_list_a]\n",
        "    progenitor_list_b = poblacion_set[progenitor_list_b]\n",
        "    return progenitor_list_a, progenitor_list_b\n",
        "\n",
        "progenitor_list_a, progenitor_list_b = progenitor(poblacion_set, fitnes_list)\n",
        "\n",
        "def progenitor2(prog_a, prog_b):\n",
        "    offspring = np.concatenate((prog_a[:n_nodos // 2], [nodo for nodo in prog_b if nodo not in prog_a[:n_nodos // 2]]))\n",
        "    return offspring\n",
        "\n",
        "def poblacion_(progenitor_list_a, progenitor_list_b):\n",
        "    return np.array([progenitor2(prog_a, prog_b) for prog_a, prog_b in zip(progenitor_list_a, progenitor_list_b)])\n",
        "\n",
        "new_poblacion_set = poblacion_(progenitor_list_a, progenitor_list_b)\n"
      ],
      "metadata": {
        "id": "ihkgidNIxrKi"
      },
      "execution_count": 6,
      "outputs": []
    },
    {
      "cell_type": "code",
      "source": [
        "def mutacion_offspring(offspring):\n",
        "    indices = np.random.choice(n_nodos, size=int(n_nodos * mutacion), replace=False)\n",
        "    offspring[indices] = np.random.permutation(offspring[indices])\n",
        "    return offspring\n",
        "\n",
        "def mutacion_poblacion(new_poblacion_set):\n",
        "    return np.array([mutacion_offspring(offspring) for offspring in new_poblacion_set])\n",
        "\n",
        "mutacion_pop = mutacion_poblacion(new_poblacion_set)\n",
        "\n",
        "mejor_solucion = [-1, np.inf, np.array([])]"
      ],
      "metadata": {
        "id": "WWi9RtwjxwcR"
      },
      "execution_count": 7,
      "outputs": []
    },
    {
      "cell_type": "code",
      "source": [
        "for i in range(10000):\n",
        "    if i % 100 == 0:\n",
        "        fitnes_list = fit_2(mutacion_pop, nodos_dic)\n",
        "        print(i, \"     \" + \"{0:.2f}\".format(np.min(fitnes_list)), \"     \" + \"{0:.2f}\".format(np.mean(fitnes_list)),\n",
        "              \"     \" + \"{0:.2f}\".format(np.max(fitnes_list)))\n",
        "    if np.min(fitnes_list) < mejor_solucion[1]:\n",
        "        mejor_solucion[0] = i\n",
        "        mejor_solucion[1] = np.min(fitnes_list)\n",
        "        mejor_solucion[2] = mutacion_pop[np.argwhere(fitnes_list == np.min(fitnes_list)).flatten()]\n",
        "    progenitor_list_a, progenitor_list_b = progenitor(mutacion_pop, fitnes_list)\n",
        "    new_poblacion_set = poblacion_(progenitor_list_a, progenitor_list_b)\n",
        "    mutacion_pop = mutacion_poblacion(new_poblacion_set)\n",
        "\n",
        "print(\"La mejor solución encontrada:\")\n",
        "print(mejor_solucion)"
      ],
      "metadata": {
        "colab": {
          "base_uri": "https://localhost:8080/"
        },
        "id": "be9OHGuGxxml",
        "outputId": "6bdfe646-b0f3-4ef5-c06f-cf0f9ff34795"
      },
      "execution_count": 8,
      "outputs": [
        {
          "output_type": "stream",
          "name": "stdout",
          "text": [
            "0      61.05      78.88      93.23\n",
            "100      68.65      68.65      68.65\n",
            "200      68.65      68.65      68.65\n",
            "300      68.65      68.65      68.65\n",
            "400      68.65      68.65      68.65\n",
            "500      68.65      68.65      68.65\n",
            "600      68.65      68.65      68.65\n",
            "700      68.65      68.65      68.65\n",
            "800      68.65      68.65      68.65\n",
            "900      68.65      68.65      68.65\n",
            "1000      68.65      68.65      68.65\n",
            "1100      68.65      68.65      68.65\n",
            "1200      68.65      68.65      68.65\n",
            "1300      68.65      68.65      68.65\n",
            "1400      68.65      68.65      68.65\n",
            "1500      68.65      68.65      68.65\n",
            "1600      68.65      68.65      68.65\n",
            "1700      68.65      68.65      68.65\n",
            "1800      68.65      68.65      68.65\n",
            "1900      68.65      68.65      68.65\n",
            "2000      68.65      68.65      68.65\n",
            "2100      68.65      68.65      68.65\n",
            "2200      68.65      68.65      68.65\n",
            "2300      68.65      68.65      68.65\n",
            "2400      68.65      68.65      68.65\n",
            "2500      68.65      68.65      68.65\n",
            "2600      68.65      68.65      68.65\n",
            "2700      68.65      68.65      68.65\n",
            "2800      68.65      68.65      68.65\n",
            "2900      68.65      68.65      68.65\n",
            "3000      68.65      68.65      68.65\n",
            "3100      68.65      68.65      68.65\n",
            "3200      68.65      68.65      68.65\n",
            "3300      68.65      68.65      68.65\n",
            "3400      68.65      68.65      68.65\n",
            "3500      68.65      68.65      68.65\n",
            "3600      68.65      68.65      68.65\n",
            "3700      68.65      68.65      68.65\n",
            "3800      68.65      68.65      68.65\n",
            "3900      68.65      68.65      68.65\n",
            "4000      68.65      68.65      68.65\n",
            "4100      68.65      68.65      68.65\n",
            "4200      68.65      68.65      68.65\n",
            "4300      68.65      68.65      68.65\n",
            "4400      68.65      68.65      68.65\n",
            "4500      68.65      68.65      68.65\n",
            "4600      68.65      68.65      68.65\n",
            "4700      68.65      68.65      68.65\n",
            "4800      68.65      68.65      68.65\n",
            "4900      68.65      68.65      68.65\n",
            "5000      68.65      68.65      68.65\n",
            "5100      68.65      68.65      68.65\n",
            "5200      68.65      68.65      68.65\n",
            "5300      68.65      68.65      68.65\n",
            "5400      68.65      68.65      68.65\n",
            "5500      68.65      68.65      68.65\n",
            "5600      68.65      68.65      68.65\n",
            "5700      68.65      68.65      68.65\n",
            "5800      68.65      68.65      68.65\n",
            "5900      68.65      68.65      68.65\n",
            "6000      68.65      68.65      68.65\n",
            "6100      68.65      68.65      68.65\n",
            "6200      68.65      68.65      68.65\n",
            "6300      68.65      68.65      68.65\n",
            "6400      68.65      68.65      68.65\n",
            "6500      68.65      68.65      68.65\n",
            "6600      68.65      68.65      68.65\n",
            "6700      68.65      68.65      68.65\n",
            "6800      68.65      68.65      68.65\n",
            "6900      68.65      68.65      68.65\n",
            "7000      68.65      68.65      68.65\n",
            "7100      68.65      68.65      68.65\n",
            "7200      68.65      68.65      68.65\n",
            "7300      68.65      68.65      68.65\n",
            "7400      68.65      68.65      68.65\n",
            "7500      68.65      68.65      68.65\n",
            "7600      68.65      68.65      68.65\n",
            "7700      68.65      68.65      68.65\n",
            "7800      68.65      68.65      68.65\n",
            "7900      68.65      68.65      68.65\n",
            "8000      68.65      68.65      68.65\n",
            "8100      68.65      68.65      68.65\n",
            "8200      68.65      68.65      68.65\n",
            "8300      68.65      68.65      68.65\n",
            "8400      68.65      68.65      68.65\n",
            "8500      68.65      68.65      68.65\n",
            "8600      68.65      68.65      68.65\n",
            "8700      68.65      68.65      68.65\n",
            "8800      68.65      68.65      68.65\n",
            "8900      68.65      68.65      68.65\n",
            "9000      68.65      68.65      68.65\n",
            "9100      68.65      68.65      68.65\n",
            "9200      68.65      68.65      68.65\n",
            "9300      68.65      68.65      68.65\n",
            "9400      68.65      68.65      68.65\n",
            "9500      68.65      68.65      68.65\n",
            "9600      68.65      68.65      68.65\n",
            "9700      68.65      68.65      68.65\n",
            "9800      68.65      68.65      68.65\n",
            "9900      68.65      68.65      68.65\n",
            "La mejor solución encontrada:\n",
            "[0, 61.04934419198399, array([['C', 'E', 'B', 'D', 'A']], dtype='<U1')]\n"
          ]
        }
      ]
    }
  ]
}